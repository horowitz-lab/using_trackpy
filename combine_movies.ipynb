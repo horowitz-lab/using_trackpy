{
 "cells": [
  {
   "cell_type": "code",
   "execution_count": 3,
   "id": "d63d4f72-3d8a-494e-a529-43ad337cc5fb",
   "metadata": {},
   "outputs": [
    {
     "data": {
      "text/html": [
       "<style>.container { width: 90% !important; }</style>"
      ],
      "text/plain": [
       "<IPython.core.display.HTML object>"
      ]
     },
     "metadata": {},
     "output_type": "display_data"
    }
   ],
   "source": [
    "import matplotlib.pyplot as plt\n",
    "import numba\n",
    "import helperfunctions # this is my own python file\n",
    "import seaborn as sns\n",
    "from IPython.display import display, HTML\n",
    "\n",
    "\n",
    "\n",
    "display(HTML(\"<style>.container { width: 90% !important; }</style>\")) # Set the custom CSS to make the notebook width 90% of the window size\n",
    "sns.set_context('notebook')"
   ]
  },
  {
   "cell_type": "code",
   "execution_count": null,
   "id": "69cfd42e-fef4-4201-9b4b-eeb8ba64ffed",
   "metadata": {},
   "outputs": [],
   "source": [
    "trajectories_files_list = []"
   ]
  }
 ],
 "metadata": {
  "kernelspec": {
   "display_name": "Python 3 (ipykernel)",
   "language": "python",
   "name": "python3"
  },
  "language_info": {
   "codemirror_mode": {
    "name": "ipython",
    "version": 3
   },
   "file_extension": ".py",
   "mimetype": "text/x-python",
   "name": "python",
   "nbconvert_exporter": "python",
   "pygments_lexer": "ipython3",
   "version": "3.10.14"
  }
 },
 "nbformat": 4,
 "nbformat_minor": 5
}
