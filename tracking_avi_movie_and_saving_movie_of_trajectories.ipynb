{
 "cells": [
  {
   "cell_type": "code",
   "execution_count": null,
   "metadata": {},
   "outputs": [],
   "source": [
    "### Only run this code if necessary to install packages \n",
    "### on a new anaconda installation. \n",
    "### (Remove the \"\"\" before and after to uncomment.)\n",
    "\n",
    "\"\"\"\n",
    "!conda update conda --yes\n",
    "!conda install -c conda-forge trackpy --yes\n",
    "!pip install pims\n",
    "!pip install moviepy\n",
    "!pip3 install opencv-python  \n",
    "# https://stackoverflow.com/questions/46610689/how-to-import-cv2-in-python3\n",
    "\"\"\";"
   ]
  },
  {
   "cell_type": "code",
   "execution_count": null,
   "metadata": {},
   "outputs": [],
   "source": [
    "#%matplotlib inline\n",
    "import matplotlib as mpl\n",
    "import matplotlib.pyplot as plt\n",
    "\n",
    "import numpy as np\n",
    "import pandas as pd\n",
    "\n",
    "import pims\n",
    "import trackpy as tp\n",
    "import os\n",
    "import time\n",
    "\n",
    "%pylab inline\n",
    "\n",
    "from __future__ import division  # this makes mathematical division work better\n"
   ]
  },
  {
   "cell_type": "code",
   "execution_count": null,
   "metadata": {},
   "outputs": [],
   "source": [
    "\"\"\"\n",
    "Three cells for setting up where all the files are, which objective you used, \n",
    "and whether you want to background the images (if the illumination is uneven or if there is dust on the camera).\n",
    "\"\"\"\n",
    "myhome = r'C:\\Users\\vhorowit\\Documents'\n",
    "datafolder = r'Research 2021\\Data'\n",
    "data_date = '2021-10-20'\n",
    "#movienumber = '02'\n",
    "subfolder = 'PEG 200'\n",
    "moviename = 'WPC, 15fps, PEG 200_0'\n",
    "## either generate or manually set the filename with the appropriate path\n",
    "filename = os.path.join(myhome, datafolder, data_date, subfolder, moviename + '.avi')\n",
    "\n",
    "using_darkcount = False\n",
    "\n",
    "## give filename if you are using_darkcount\n",
    "darkcount_filename = os.path.join(myhome, datafolder, data_date, subfolder, 'darkcount.avi')\n",
    "\n",
    "filename"
   ]
  },
  {
   "cell_type": "code",
   "execution_count": null,
   "metadata": {},
   "outputs": [],
   "source": [
    "# REMEMBER: you need to write down the objective when you take data!\n",
    "# scaling, measured in microns per pixel (information about the objective)\n",
    "scaling = 330 / 1247.96 # 20x1.0, measured 2021-06-17\n",
    "#scaling = 220 / 1250.04 # 20x1.5, measured 2021-06-17\n",
    "#scaling = 150 / 1127.54 # 40x1.0, measured 2021-06-16\n",
    "#scaling = 100 / 1130.61 # 40x1.5, measured 2021-06-16\n",
    "#scaling = 80 / 914.92 # 60x1.0, measured 2021-05-28\n",
    "#scaling = 60 / 1031.07 # 60x1.5, measured 2021-05-28\n",
    "\n",
    "fps = 15.0              # REMEMBER: you need to write this down when you take data!\n",
    "frametime = 1000/fps    # milliseconds\n",
    "\n",
    "# set to True if you don't want to background at all. False means it still needs to do the backgrounding.\n",
    "bg_flag = True;\n",
    "\n",
    "\n",
    "## The rest of this cell doesn't need to be updated, so just go to the next cell.\n",
    "\n",
    "## turn video to grey, source: https://soft-matter.github.io/pims/dev/pipelines.html\n",
    "@pims.pipeline\n",
    "def as_grey(frame):\n",
    "    red = frame[:, :, 0]\n",
    "    green = frame[:, :, 1]\n",
    "    blue = frame[:, :, 2]\n",
    "    return 0.2125 * red + 0.7154 * green + 0.0721 * blue\n",
    "\n",
    "rawframes = pims.Video(filename)\n",
    "rawframes = as_grey(rawframes)  ## overwrite the frames files with greyscale version.\n",
    "\n",
    "if using_darkcount:\n",
    "    darkframes = pims.Video(darkcount_filename, as_grey=True)\n",
    "    \n",
    "if bg_flag:\n",
    "    frames = rawframes # just use the rawframes as frames without any backgrounding"
   ]
  },
  {
   "cell_type": "code",
   "execution_count": null,
   "metadata": {},
   "outputs": [],
   "source": [
    "## where to save\n",
    "\n",
    "import datetime\n",
    "today = datetime.date.today().isoformat()\n",
    "#today = '2016-02-11'\n",
    "\n",
    "myanalysisfolder = r'Research 2021\\analysis'\n",
    "thismovieanalysisfolder = os.path.join(myhome, \n",
    "                                 myanalysisfolder, \n",
    "                                 today,\n",
    "                                 'data_taken_' + data_date + ',_movie_' + moviename)\n",
    "\n",
    "thismovieanalysisfolder"
   ]
  },
  {
   "cell_type": "code",
   "execution_count": null,
   "metadata": {},
   "outputs": [],
   "source": [
    "plt.imshow(rawframes[100])\n",
    "plt.title('A frame from the movie')"
   ]
  },
  {
   "cell_type": "code",
   "execution_count": null,
   "metadata": {},
   "outputs": [],
   "source": [
    "rawframes[0].shape"
   ]
  },
  {
   "cell_type": "code",
   "execution_count": null,
   "metadata": {},
   "outputs": [],
   "source": [
    "# Take a median average over frames of the darkcount movie.\n",
    "if using_darkcount and not bg_flag:\n",
    "    df = np.median(darkframes,axis=0)\n",
    "    plt.imshow(df)\n",
    "    plt.title('Darkcount background')\n",
    "    del darkframes # clear some memory\n",
    "    ## the darkframe shows if any pixels on the camera are hot, or if there is unintentional light hitting the camera."
   ]
  },
  {
   "cell_type": "code",
   "execution_count": null,
   "metadata": {},
   "outputs": [],
   "source": [
    "if not bg_flag:\n",
    "    bg = np.median(rawframes,axis=0) # may be slow\n",
    "    plt.imshow(bg)\n",
    "    plt.title('Brightfield background')\n",
    "    ## the brightfield background shows how the illumination varies across the image"
   ]
  },
  {
   "cell_type": "code",
   "execution_count": null,
   "metadata": {},
   "outputs": [],
   "source": [
    "if using_darkcount and not bg_flag:\n",
    "    plt.imshow(bg-df)\n",
    "    plt.title('Brightfield background minus darkcounts')"
   ]
  },
  {
   "cell_type": "code",
   "execution_count": null,
   "metadata": {},
   "outputs": [],
   "source": [
    "plt.imshow(rawframes[200])\n",
    "plt.title('A raw frame')\n",
    "\n",
    "if not bg_flag:\n",
    "    if using_darkcount:\n",
    "        plt.imshow((rawframes[200]-df)/(bg-df))\n",
    "    else:\n",
    "        plt.imshow(rawframes[200]/bg)\n",
    "    plt.title('A backgrounded frame')"
   ]
  },
  {
   "cell_type": "code",
   "execution_count": null,
   "metadata": {},
   "outputs": [],
   "source": [
    "if bg_flag == True:\n",
    "    print('Already backgrounded! Or you do not want me to!')\n",
    "else:\n",
    "    #rawframes = frames\n",
    "    #del frames\n",
    "    try:\n",
    "        time1 = time.time()\n",
    "        if using_darkcount:\n",
    "            frames = (rawframes-df)/(bg-df)  # background subtract and divide (slow)\n",
    "        else:\n",
    "            frames = rawframes/bg # background divide\n",
    "        elapsed = time.time() - time1\n",
    "        bg_flag = True;\n",
    "        print('Backgrounded movie in ' + str(elapsed/60.0) + ' minutes.')\n",
    "        del rawframes # clear memory\n",
    "    except MemoryError:\n",
    "        elapsed = time.time() - time1\n",
    "        frames = rawframes\n",
    "        print('Unable to background divide images after ' + str(elapsed/60.0) + ' minutes; not enough memory.')\n",
    "\n",
    "plt.imshow(frames[100])\n",
    "if bg_flag == True:\n",
    "    plt.title('Backgrounded frame from movie')\n",
    "else:\n",
    "    plt.title('Frame from movie (not backgrounded)')"
   ]
  },
  {
   "cell_type": "code",
   "execution_count": null,
   "metadata": {
    "scrolled": false
   },
   "outputs": [],
   "source": [
    "# find bright spots in a frame.\n",
    "# featuresize must be odd. The subpixel bias will tell you if the featuresize is too big or small.\n",
    "# read up on this in the trackpy literature.\n",
    "# invert: True to find dark spots, False to find bright spots (make sure this is also up-to-date in the next cell)\n",
    "i = 100\n",
    "featuresize = 15\n",
    "minmass = 100\n",
    "f1 = tp.locate(frames[i], diameter=featuresize, invert=False, minmass=minmass)\n",
    "tp.annotate(f1, frames[i])\n",
    "tp.subpx_bias(f1)\n",
    "#f1"
   ]
  },
  {
   "cell_type": "code",
   "execution_count": null,
   "metadata": {},
   "outputs": [],
   "source": [
    "# Now that we have picked out an appropriate featuresize and settings, it's time to go through ALL the frames,\n",
    "# finding the coordinates of the bright spots in each frame.\n",
    "\n",
    "time3 = time.time()\n",
    "try:\n",
    "    f_coords = tp.batch(frames[:], featuresize, invert=False, minmass=minmass) # Slow!\n",
    "    elapsed4 = time.time() - time3\n",
    "    print('Multithreading succeeded.')\n",
    "except ValueError:\n",
    "    time4 = time.time()\n",
    "    elapsed3 = time4-time3\n",
    "    print('Failed to use multi-threading after '+ str(elapsed3/60.0) + 'min! Attempting to run on one processor!')\n",
    "    f_coords = tp.batch(frames[:], featuresize, invert=False, minmass=minmass, processes=1) # Even slower!\n",
    "    elapsed4 = time.time()-time4\n",
    "\n",
    "#f_coords = pd.read_pickle('f_coords.pkl')\n",
    "\n",
    "print('Tracked particles in ' + str(elapsed4/60.0) + ' minutes.')\n",
    "\n",
    "# Documentation: http://soft-matter.github.io/trackpy/generated/trackpy.batch.html\n",
    "# invert : Set to True if features are darker than background.\n",
    "\n",
    "# This is an implementation of the Crocker-Grier centroid-finding algorithm.\n",
    "#  Crocker, J.C., Grier, D.G. http://dx.doi.org/10.1006/jcis.1996.0217\n",
    "\n",
    "tp.subpx_bias(f_coords)"
   ]
  },
  {
   "cell_type": "code",
   "execution_count": null,
   "metadata": {},
   "outputs": [],
   "source": [
    "# tell me how many frames are in the movie\n",
    "nframes = f_coords['frame'].max() - f_coords['frame'].min() + 1\n",
    "nframes"
   ]
  },
  {
   "cell_type": "code",
   "execution_count": null,
   "metadata": {},
   "outputs": [],
   "source": [
    "# We have just built a list of coordinates called f_coords where we have seen particles. '\n",
    "# Now we want to link these together from one frame to the next \n",
    "# so we can identify the trajectory for each particle.\n",
    "\n",
    "# Documentation: http://soft-matter.github.io/trackpy/generated/trackpy.link_df.html\n",
    "\n",
    "t = tp.link_df(f=f_coords, search_range=10, memory=3)\n",
    "#t = pd.read_pickle('t.pkl')\n",
    "\n",
    "# search_range gives the maximum distance features can move between frames. \n",
    "#              I think it's measured in pixels.\n",
    "# memory gives the maximum number of frames during which a feature can vanish, \n",
    "#        then reappear nearby, and still be considered the same particle.\n",
    "# This will run faster if the numba package is available.\n",
    "\n",
    "#trajectory = tp.plot_traj(t, superimpose = frames[500], label=False)\n",
    "# plots trajectory in pixels"
   ]
  },
  {
   "cell_type": "code",
   "execution_count": null,
   "metadata": {},
   "outputs": [],
   "source": [
    "trajectory_plot = tp.plot_traj(t, superimpose = frames[nframes/2], label=False)"
   ]
  },
  {
   "cell_type": "code",
   "execution_count": null,
   "metadata": {},
   "outputs": [],
   "source": [
    "# only keep trajectories that last at least this many frames\n",
    "t1 = tp.filter_stubs(t, 50)\n",
    "# Compare the number of particles in the unfiltered and filtered data.\n",
    "print('Before:', t['particle'].nunique())\n",
    "print('After:', t1['particle'].nunique())"
   ]
  },
  {
   "cell_type": "code",
   "execution_count": null,
   "metadata": {},
   "outputs": [],
   "source": [
    "tracks = t1['particle'].astype(int).unique()\n",
    "\n",
    "print(size(tracks))"
   ]
  },
  {
   "cell_type": "code",
   "execution_count": null,
   "metadata": {},
   "outputs": [],
   "source": [
    "trajectory_plot = tp.plot_traj(t1, superimpose = frames[nframes/2], label=False)"
   ]
  },
  {
   "cell_type": "code",
   "execution_count": null,
   "metadata": {},
   "outputs": [],
   "source": [
    "try:\n",
    "    axes().set_aspect('equal', 'datalim') \n",
    "except:\n",
    "    pass\n",
    "trajectory_plot = tp.plot_traj(t1, mpp=scaling)\n",
    "\n",
    "#savefig()"
   ]
  },
  {
   "cell_type": "code",
   "execution_count": null,
   "metadata": {},
   "outputs": [],
   "source": [
    "d = tp.compute_drift(t1, smoothing=15)\n",
    "\n",
    "#plt.figure()\n",
    "d.plot(grid=False)\n",
    "plt.title('Drift in ' + moviename + '\\n')"
   ]
  },
  {
   "cell_type": "code",
   "execution_count": null,
   "metadata": {},
   "outputs": [],
   "source": [
    "tm = tp.subtract_drift(t1, d)\n",
    "plt.figure()\n",
    "try:\n",
    "    axes().set_aspect('equal', 'datalim') \n",
    "except:\n",
    "    pass\n",
    "tp.plot_traj(tm, mpp=scaling)\n",
    "\n",
    "plt.figure()\n",
    "tp.plot_traj(tm, superimpose = frames[0], label=False)"
   ]
  },
  {
   "cell_type": "code",
   "execution_count": null,
   "metadata": {},
   "outputs": [],
   "source": [
    "nframes/fps"
   ]
  },
  {
   "cell_type": "code",
   "execution_count": null,
   "metadata": {},
   "outputs": [],
   "source": [
    "thismovieanalysisfolder"
   ]
  },
  {
   "cell_type": "code",
   "execution_count": null,
   "metadata": {},
   "outputs": [],
   "source": [
    "im=tp.imsd(tm, mpp=scaling, fps=fps, max_lagtime=1000)"
   ]
  },
  {
   "cell_type": "code",
   "execution_count": null,
   "metadata": {},
   "outputs": [],
   "source": [
    "fig, ax = plt.subplots()\n",
    "ax.plot(im.index, im, 'k-', alpha=0.15)  # black lines, semitransparent\n",
    "ax.set(ylabel=r'$\\langle \\Delta r^2 \\rangle$ [$\\mu$m$^2$]',\n",
    "       xlabel='lag time $\\Delta{}t$ [s]')\n",
    "ax.set_xscale('log')\n",
    "ax.set_yscale('log')\n",
    "fig.set_size_inches(3,3)\n",
    "plt.title('MSD, drift-subtracted\\n'+ moviename + '\\n')\n",
    "\n",
    "#savefig(os.path.join(thismovieanalysisfolder, movienumber + ',_drift-subtracted-MSD.pdf'))\n",
    "#savefig(os.path.join(thismovieanalysisfolder, movienumber + ',_drift-subtracted-MSD.png'))"
   ]
  },
  {
   "cell_type": "code",
   "execution_count": null,
   "metadata": {},
   "outputs": [],
   "source": [
    "MSD_no_drift=tp.imsd(t1, mpp=scaling, fps=fps, max_lagtime=1000)"
   ]
  },
  {
   "cell_type": "code",
   "execution_count": null,
   "metadata": {},
   "outputs": [],
   "source": [
    "fig, ax = plt.subplots()\n",
    "ax.plot(MSD_no_drift.index, MSD_no_drift, 'k-', alpha=0.15)  # black lines, semitransparent\n",
    "ax.set(ylabel=r'$\\langle \\Delta r^2 \\rangle$ [$\\mu$m$^2$]',\n",
    "       xlabel='lag time $\\Delta{}t$ [s]')\n",
    "ax.set_xscale('log')\n",
    "ax.set_yscale('log')\n",
    "fig.set_size_inches(3,3)\n",
    "plt.title('MSD, not drift-subtracted\\n'+ moviename + '\\n')\n",
    "\n",
    "#savefig(os.path.join(thismovieanalysisfolder, movienumber + ',_drift-not-subtracted-MSD.pdf'))\n",
    "#savefig(os.path.join(thismovieanalysisfolder, movienumber + ',_drift-not-subtracted-MSD.png'))"
   ]
  },
  {
   "cell_type": "code",
   "execution_count": null,
   "metadata": {},
   "outputs": [],
   "source": [
    "em = tp.emsd(tm, mpp=scaling, fps=fps)"
   ]
  },
  {
   "cell_type": "code",
   "execution_count": null,
   "metadata": {},
   "outputs": [],
   "source": [
    "ensemble_msd_drift_sub = tp.emsd(tm, scaling, fps)\n",
    "ax = ensemble_msd_drift_sub.plot(loglog=True, figsize = [3,3], style='k.',  grid=False)\n",
    "\n",
    "ax.set(ylabel=r'$\\langle \\Delta r^2 \\rangle$ [$\\mu$m$^2$]', xlabel='lag time $\\Delta{}t$ [s]')\n",
    "plt.title('ensemble MSD of drift-subtracted trajectory,\\n' + moviename + '\\n')\n",
    "tp.utils.fit_powerlaw(em)  # performs linear best fit in log space, plots\n",
    "\n",
    "#savefig(os.path.join(thismovieanalysisfolder, movienumber + ',_drift-subtracted-ensembleMSD.pdf'))\n",
    "#savefig(os.path.join(thismovieanalysisfolder, movienumber + ',_drift-subtracted-ensembleMSD.png'))"
   ]
  },
  {
   "cell_type": "code",
   "execution_count": null,
   "metadata": {},
   "outputs": [],
   "source": [
    "# error # don't run the following code unless you intend to"
   ]
  },
  {
   "cell_type": "code",
   "execution_count": null,
   "metadata": {},
   "outputs": [],
   "source": [
    "if not os.path.exists(thismovieanalysisfolder):\n",
    "    os.makedirs(thismovieanalysisfolder)\n",
    "    print('Created ' + thismovieanalysisfolder)\n",
    "else:\n",
    "    print ('Already exists: ' + thismovieanalysisfolder )"
   ]
  },
  {
   "cell_type": "code",
   "execution_count": null,
   "metadata": {},
   "outputs": [],
   "source": [
    "f_coords_filename = os.path.join(thismovieanalysisfolder, 'f_coords.pkl')\n",
    "\n",
    "f_coords.to_pickle(f_coords_filename)\n",
    "f_coords.head()"
   ]
  },
  {
   "cell_type": "code",
   "execution_count": null,
   "metadata": {},
   "outputs": [],
   "source": [
    "t_filename = os.path.join(thismovieanalysisfolder, 't.pkl')\n",
    "t.to_pickle(t_filename)\n",
    "t.head()\n"
   ]
  },
  {
   "cell_type": "code",
   "execution_count": null,
   "metadata": {},
   "outputs": [],
   "source": [
    "t1_filename = os.path.join(thismovieanalysisfolder, 't1.pkl')\n",
    "t1.to_pickle(t1_filename)\n",
    "t1.head()"
   ]
  },
  {
   "cell_type": "code",
   "execution_count": null,
   "metadata": {},
   "outputs": [],
   "source": [
    "tm_filename = os.path.join(thismovieanalysisfolder, 'tm.pkl')\n",
    "tm.to_pickle(tm_filename)\n",
    "tm.head()"
   ]
  },
  {
   "cell_type": "code",
   "execution_count": null,
   "metadata": {},
   "outputs": [],
   "source": [
    "MSD_no_drift_filename = os.path.join(thismovieanalysisfolder, 'MSD_no_drift.csv')\n",
    "MSD_no_drift.to_csv(MSD_no_drift_filename)\n",
    "MSD_no_drift.head()"
   ]
  },
  {
   "cell_type": "code",
   "execution_count": null,
   "metadata": {},
   "outputs": [],
   "source": [
    "im_filename = os.path.join(thismovieanalysisfolder, 'im.csv')\n",
    "im.to_csv(im_filename)\n",
    "im.head()"
   ]
  },
  {
   "cell_type": "code",
   "execution_count": null,
   "metadata": {},
   "outputs": [],
   "source": [
    "em_filename = os.path.join(thismovieanalysisfolder, 'em.csv')\n",
    "em.to_csv(em_filename)\n",
    "em.head()"
   ]
  },
  {
   "cell_type": "code",
   "execution_count": null,
   "metadata": {},
   "outputs": [],
   "source": [
    "# error # if uncommented, this will prevent the following code from running unless you intend it to run."
   ]
  },
  {
   "cell_type": "code",
   "execution_count": null,
   "metadata": {},
   "outputs": [],
   "source": [
    "#t1_filename = os.path.join(thismovieanalysisfolder, 't1.pkl')\n",
    "#t1 = pd.read_pickle(t1_filename)\n",
    "#t_filename = os.path.join(thismovieanalysisfolder, 't.pkl')\n",
    "#t = pd.read_pickle(t_filename)\n",
    "#nframes = 407"
   ]
  },
  {
   "cell_type": "code",
   "execution_count": null,
   "metadata": {},
   "outputs": [],
   "source": [
    "trajectories_to_show = t1\n",
    "\n",
    "#frames = rawframes     # for troubleshooting\n",
    "\n",
    "(y_size,x_size) = frames[0].shape\n",
    "\n",
    "nframesinmovie = nframes\n",
    "#nframesinmovie = 10     # for troubleshooting\n",
    "\n",
    "new_movie_fps = 30     # doesn't have to be the same as fps\n",
    "imagesfolder = os.path.join(thismovieanalysisfolder, 'movie_traj')\n",
    "os.makedirs(imagesfolder)"
   ]
  },
  {
   "cell_type": "code",
   "execution_count": null,
   "metadata": {},
   "outputs": [],
   "source": [
    "currentmin = 1e6 ## something too large\n",
    "currentmax = 0 ## something too small\n",
    "for frame in frames:\n",
    "    currentmin = min(frame.min(), currentmin) \n",
    "    currentmax = max(frame.max(), currentmax)\n",
    "frames_min = currentmin\n",
    "frames_max = currentmax\n",
    "\n",
    "print ('Min pixel: ', frames_min)\n",
    "print ('Max pixel: ', frames_max)"
   ]
  },
  {
   "cell_type": "code",
   "execution_count": null,
   "metadata": {},
   "outputs": [],
   "source": [
    "frametime_sec = frametime/1000.0"
   ]
  },
  {
   "cell_type": "code",
   "execution_count": null,
   "metadata": {},
   "outputs": [],
   "source": [
    "scalebar_length_um = 15\n",
    "vertical_separation = 300\n",
    "horizontal_separation = 50\n",
    "text_bar_separation = 25\n",
    "fontsz=12\n",
    "approx_length_of_text_px = 135\n",
    "scalebar_height = 20\n",
    "scalebar_bottom = x_size -vertical_separation\n",
    "scalebar_top = scalebar_bottom - scalebar_height\n",
    "scalebar_length_px = scalebar_length_um/scaling\n",
    "scalebar_left_px = 0 + horizontal_separation              #scalebar_right_px - scalebar_length_px\n",
    "scalebar_right_px = scalebar_left_px + scalebar_length_px #y_size-horizontal_separation\n",
    "scalebar_left_percent = scalebar_left_px/(x_size*1.0)\n",
    "#scalebar_length_percent = scalebar_length_px/(x_size*1.0)\n",
    "#xmax = scalebar_length_percent + scalebar_left_percent\n",
    "xmax = scalebar_right_px /(x_size*1.0)\n",
    "scalebar_greyscale = '0.1'\n",
    "center_of_bar = (scalebar_left_px + scalebar_right_px)/2.0"
   ]
  },
  {
   "cell_type": "code",
   "execution_count": null,
   "metadata": {},
   "outputs": [],
   "source": [
    "i = nframesinmovie-1\n",
    "\n",
    "# Calculate image width and height in inches.\n",
    "imagewidth=frames.shape[2]/dpi # calculate image width in inches\n",
    "imageheight=imagewidth*(frames.shape[1]/frames.shape[2])\n",
    "trajectorymovieframesize=[imagewidth,imageheight]\n",
    "\n",
    "fig = plt.figure(figsize=trajectorymovieframesize,frameon=False)\n",
    "ax = fig.add_axes([0,0,1,1])\n",
    "thisframe = frames[i].copy()\n",
    "thisframe[0][0]=frames_max\n",
    "thisframe[0][1]=frames_min\n",
    "ax.imshow(-thisframe,cmap='Greys')\n",
    "\n",
    "axhspan(scalebar_top, \n",
    "            scalebar_top + scalebar_height, \n",
    "            xmin=scalebar_left_percent, \n",
    "            xmax=xmax,\n",
    "            color=scalebar_greyscale, \n",
    "            alpha=0.75)\n",
    "text(center_of_bar-approx_length_of_text_px/2,scalebar_top-text_bar_separation, \n",
    "         str(scalebar_length_um) + u' \\u03bcm',\n",
    "         fontsize=fontsz,\n",
    "         color=scalebar_greyscale)\n",
    "text(horizontal_separation, horizontal_separation, \"{:.1f}\".format(i*frametime_sec) + ' sec',\n",
    "     fontsize=fontsz,\n",
    "     color=scalebar_greyscale)\n",
    "\n",
    "\n",
    "ylim(y_size,0)\n",
    "xlim(0,x_size)\n",
    "xticks([],'')\n",
    "yticks([],'')\n",
    "\n",
    "fig.dpi"
   ]
  },
  {
   "cell_type": "code",
   "execution_count": null,
   "metadata": {},
   "outputs": [],
   "source": [
    "tracks_to_show = trajectories_to_show['particle'].astype(int).unique()\n",
    "\n",
    "# Thanks to Becca Perry for helping me with this code.\n",
    "for i in range(nframesinmovie): \n",
    "    #print(i)\n",
    "    fig = plt.figure(figsize=trajectorymovieframesize,frameon=False)\n",
    "    ax = fig.add_axes([0,0,1,1])\n",
    "   \n",
    "    implot = ax.imshow(-frames[i],\n",
    "                       vmin = -frames_max, \n",
    "                       vmax = -frames_min,\n",
    "                       cmap='Greys')    # Greys maps from white to black; I prefer black to white so I negate the image.\n",
    "    \n",
    "    traj_hist =  trajectories_to_show[trajectories_to_show.frame <=i]\n",
    "\n",
    "    for this_particle in tracks_to_show:\n",
    "        this_traj_hist = traj_hist[traj_hist.particle == this_particle]\n",
    "        this_xcoords_hist = this_traj_hist['x']\n",
    "        this_ycoords_hist = this_traj_hist['y']\n",
    "        plot(this_xcoords_hist.values,this_ycoords_hist.values, 'r-', alpha=0.4)\n",
    "\n",
    "    thisframefavcoords = trajectories_to_show[trajectories_to_show.frame ==i]\n",
    "    xcoords = thisframefavcoords['x']\n",
    "    ycoords = thisframefavcoords['y']\n",
    "    plot(xcoords.values,ycoords.values, 'r.', alpha=0.2)\n",
    "       \n",
    "    # scalebar\n",
    "    axhspan(scalebar_top, \n",
    "            scalebar_top + scalebar_height, \n",
    "            xmin=scalebar_left_percent, \n",
    "            xmax=xmax,\n",
    "            color=scalebar_greyscale, \n",
    "            alpha=0.75)\n",
    "\n",
    "    # scalebar label\n",
    "    text(center_of_bar-approx_length_of_text_px/2,scalebar_top-text_bar_separation, \n",
    "         str(scalebar_length_um) + u' \\u03bcm',\n",
    "         fontsize=fontsz,\n",
    "         color=scalebar_greyscale)\n",
    "    \n",
    "    # time stamp\n",
    "    text(horizontal_separation, horizontal_separation, \"{:.1f}\".format(i*frametime_sec) + ' sec',\n",
    "         fontsize=fontsz,\n",
    "         color=scalebar_greyscale)\n",
    "    \n",
    "    ylim(y_size,0)\n",
    "    xlim(0,x_size)\n",
    "    xticks([],'')\n",
    "    yticks([],'')\n",
    "    \n",
    "    savefig(os.path.join(imagesfolder, 'img' + str(i).zfill(4) +'.tif'),\n",
    "            dpi = fig.dpi)\n",
    "    \n",
    "    if i < nframesinmovie-1:\n",
    "        close()"
   ]
  },
  {
   "cell_type": "code",
   "execution_count": null,
   "metadata": {},
   "outputs": [],
   "source": [
    "# make avi movie\n",
    "os.chdir(imagesfolder)\n",
    "try:\n",
    "    os.system(\"mencoder 'mf://*.tif' -mf type=tif:fps={0} -ovc lavc -lavcopts vcodec=mpeg4:vbitrate=100000000 -oac copy -o movie.avi\".format(new_movie_fps))\n",
    "    if not os.path.exists('movie.avi'):\n",
    "        raise Exception('Movie file not created!')"
   ]
  },
  {
   "cell_type": "code",
   "execution_count": null,
   "metadata": {},
   "outputs": [],
   "source": []
  }
 ],
 "metadata": {
  "kernelspec": {
   "display_name": "Python 3",
   "language": "python",
   "name": "python3"
  },
  "language_info": {
   "codemirror_mode": {
    "name": "ipython",
    "version": 3
   },
   "file_extension": ".py",
   "mimetype": "text/x-python",
   "name": "python",
   "nbconvert_exporter": "python",
   "pygments_lexer": "ipython3",
   "version": "3.8.8"
  }
 },
 "nbformat": 4,
 "nbformat_minor": 1
}
