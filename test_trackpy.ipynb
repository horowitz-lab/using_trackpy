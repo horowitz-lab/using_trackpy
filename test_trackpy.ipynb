{
 "cells": [
  {
   "cell_type": "code",
   "execution_count": 1,
   "id": "5e1fc449-9b66-44ae-8e51-66b75b2db199",
   "metadata": {},
   "outputs": [],
   "source": [
    "import trackpy as tp\n",
    "import pandas as pd"
   ]
  },
  {
   "cell_type": "code",
   "execution_count": 2,
   "id": "57d54cfb-b7a1-4dee-9256-f91c50f8f530",
   "metadata": {},
   "outputs": [
    {
     "data": {
      "text/html": [
       "<div>\n",
       "<style scoped>\n",
       "    .dataframe tbody tr th:only-of-type {\n",
       "        vertical-align: middle;\n",
       "    }\n",
       "\n",
       "    .dataframe tbody tr th {\n",
       "        vertical-align: top;\n",
       "    }\n",
       "\n",
       "    .dataframe thead th {\n",
       "        text-align: right;\n",
       "    }\n",
       "</style>\n",
       "<table border=\"1\" class=\"dataframe\">\n",
       "  <thead>\n",
       "    <tr style=\"text-align: right;\">\n",
       "      <th></th>\n",
       "      <th>frame</th>\n",
       "      <th>x</th>\n",
       "      <th>y</th>\n",
       "      <th>particle</th>\n",
       "    </tr>\n",
       "  </thead>\n",
       "  <tbody>\n",
       "    <tr>\n",
       "      <th>0</th>\n",
       "      <td>1</td>\n",
       "      <td>4</td>\n",
       "      <td>6</td>\n",
       "      <td>1</td>\n",
       "    </tr>\n",
       "    <tr>\n",
       "      <th>1</th>\n",
       "      <td>2</td>\n",
       "      <td>5</td>\n",
       "      <td>7</td>\n",
       "      <td>1</td>\n",
       "    </tr>\n",
       "    <tr>\n",
       "      <th>2</th>\n",
       "      <td>3</td>\n",
       "      <td>4</td>\n",
       "      <td>8</td>\n",
       "      <td>1</td>\n",
       "    </tr>\n",
       "    <tr>\n",
       "      <th>3</th>\n",
       "      <td>4</td>\n",
       "      <td>5</td>\n",
       "      <td>6</td>\n",
       "      <td>1</td>\n",
       "    </tr>\n",
       "    <tr>\n",
       "      <th>4</th>\n",
       "      <td>5</td>\n",
       "      <td>3</td>\n",
       "      <td>7</td>\n",
       "      <td>1</td>\n",
       "    </tr>\n",
       "    <tr>\n",
       "      <th>5</th>\n",
       "      <td>6</td>\n",
       "      <td>2</td>\n",
       "      <td>6</td>\n",
       "      <td>1</td>\n",
       "    </tr>\n",
       "    <tr>\n",
       "      <th>6</th>\n",
       "      <td>1</td>\n",
       "      <td>-3</td>\n",
       "      <td>10</td>\n",
       "      <td>2</td>\n",
       "    </tr>\n",
       "    <tr>\n",
       "      <th>7</th>\n",
       "      <td>2</td>\n",
       "      <td>-1</td>\n",
       "      <td>11</td>\n",
       "      <td>2</td>\n",
       "    </tr>\n",
       "    <tr>\n",
       "      <th>8</th>\n",
       "      <td>6</td>\n",
       "      <td>-2</td>\n",
       "      <td>10</td>\n",
       "      <td>2</td>\n",
       "    </tr>\n",
       "  </tbody>\n",
       "</table>\n",
       "</div>"
      ],
      "text/plain": [
       "   frame  x   y  particle\n",
       "0      1  4   6         1\n",
       "1      2  5   7         1\n",
       "2      3  4   8         1\n",
       "3      4  5   6         1\n",
       "4      5  3   7         1\n",
       "5      6  2   6         1\n",
       "6      1 -3  10         2\n",
       "7      2 -1  11         2\n",
       "8      6 -2  10         2"
      ]
     },
     "metadata": {},
     "output_type": "display_data"
    }
   ],
   "source": [
    "example_traj = {\n",
    "    'frame': [1, 2, 3, 4, 5, 6, 1, 2, 6], # create an example trajectory where particle 2 disappears for a few frames and returns.\n",
    "    'x': [4, 5, 4, 5, 3, 2, -3, -1, -2],\n",
    "    'y': [6, 7, 8, 6, 7, 6, 10, 11, 10],\n",
    "    'particle': [1, 1, 1, 1, 1, 1, 2, 2, 2]\n",
    "}\n",
    "\n",
    "traj = pd.DataFrame(example_traj)\n",
    "display(traj)"
   ]
  },
  {
   "cell_type": "code",
   "execution_count": 3,
   "id": "cb8d103a-3d27-4a4a-8284-74a8829ef995",
   "metadata": {},
   "outputs": [
    {
     "data": {
      "image/png": "[encoded data removed]",
      "text/plain": [
       "<Figure size 640x480 with 1 Axes>"
      ]
     },
     "metadata": {},
     "output_type": "display_data"
    }
   ],
   "source": [
    "tp.plot_traj(traj);"
   ]
  },
  {
   "cell_type": "code",
   "execution_count": 4,
   "id": "6229db56-5326-4dc2-9e5f-93c79d01ed43",
   "metadata": {},
   "outputs": [
    {
     "data": {
      "text/html": [
       "<div>\n",
       "<style scoped>\n",
       "    .dataframe tbody tr th:only-of-type {\n",
       "        vertical-align: middle;\n",
       "    }\n",
       "\n",
       "    .dataframe tbody tr th {\n",
       "        vertical-align: top;\n",
       "    }\n",
       "\n",
       "    .dataframe thead th {\n",
       "        text-align: right;\n",
       "    }\n",
       "</style>\n",
       "<table border=\"1\" class=\"dataframe\">\n",
       "  <thead>\n",
       "    <tr style=\"text-align: right;\">\n",
       "      <th></th>\n",
       "      <th>1</th>\n",
       "      <th>2</th>\n",
       "    </tr>\n",
       "    <tr>\n",
       "      <th>lag time [s]</th>\n",
       "      <th></th>\n",
       "      <th></th>\n",
       "    </tr>\n",
       "  </thead>\n",
       "  <tbody>\n",
       "    <tr>\n",
       "      <th>1.0</th>\n",
       "      <td>3.200000</td>\n",
       "      <td>5.0</td>\n",
       "    </tr>\n",
       "    <tr>\n",
       "      <th>2.0</th>\n",
       "      <td>4.000000</td>\n",
       "      <td>0.0</td>\n",
       "    </tr>\n",
       "    <tr>\n",
       "      <th>3.0</th>\n",
       "      <td>4.333333</td>\n",
       "      <td>0.0</td>\n",
       "    </tr>\n",
       "    <tr>\n",
       "      <th>4.0</th>\n",
       "      <td>6.000000</td>\n",
       "      <td>2.0</td>\n",
       "    </tr>\n",
       "    <tr>\n",
       "      <th>5.0</th>\n",
       "      <td>4.000000</td>\n",
       "      <td>1.0</td>\n",
       "    </tr>\n",
       "  </tbody>\n",
       "</table>\n",
       "</div>"
      ],
      "text/plain": [
       "                     1    2\n",
       "lag time [s]               \n",
       "1.0           3.200000  5.0\n",
       "2.0           4.000000  0.0\n",
       "3.0           4.333333  0.0\n",
       "4.0           6.000000  2.0\n",
       "5.0           4.000000  1.0"
      ]
     },
     "execution_count": 4,
     "metadata": {},
     "output_type": "execute_result"
    }
   ],
   "source": [
    "tp.imsd(traj, mpp = 1, fps = 1)"
   ]
  },
  {
   "cell_type": "code",
   "execution_count": null,
   "id": "9f21b8a3-47a5-4e01-a3e0-a5c79661a85d",
   "metadata": {},
   "outputs": [],
   "source": [
    "# Those zeros appear in the imsd for particle 2 because particle 2 doesn't show up in frames 3,4, or 5.\n",
    "# It's not a lack of motion. It's really a lack of data. "
   ]
  },
  {
   "cell_type": "code",
   "execution_count": 5,
   "id": "c3aba1cd-4906-4ac5-a2c6-b1463ee84328",
   "metadata": {},
   "outputs": [
    {
     "data": {
      "text/plain": [
       "lagt\n",
       "1.0    3.800000\n",
       "2.0    2.666667\n",
       "3.0    2.888889\n",
       "4.0    4.666667\n",
       "5.0    3.000000\n",
       "Name: msd, dtype: float64"
      ]
     },
     "execution_count": 5,
     "metadata": {},
     "output_type": "execute_result"
    }
   ],
   "source": [
    "tp.emsd(traj, mpp = 1, fps = 1)"
   ]
  },
  {
   "cell_type": "code",
   "execution_count": null,
   "id": "b7b91573-ff36-49df-a342-1cb894cce3f7",
   "metadata": {},
   "outputs": [],
   "source": [
    "# The zeros are incorrectly included in the ensemble MSD average, bringing down the msd for lag times 2 and 3."
   ]
  }
 ],
 "metadata": {
  "kernelspec": {
   "display_name": "Python 3 (ipykernel)",
   "language": "python",
   "name": "python3"
  },
  "language_info": {
   "codemirror_mode": {
    "name": "ipython",
    "version": 3
   },
   "file_extension": ".py",
   "mimetype": "text/x-python",
   "name": "python",
   "nbconvert_exporter": "python",
   "pygments_lexer": "ipython3",
   "version": "3.10.14"
  }
 },
 "nbformat": 4,
 "nbformat_minor": 5
}
